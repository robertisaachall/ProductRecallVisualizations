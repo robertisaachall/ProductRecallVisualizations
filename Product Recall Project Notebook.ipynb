{
 "cells": [
  {
   "cell_type": "code",
   "execution_count": 22,
   "id": "a35cd7cd-1599-4b6f-9ea6-6ff0c4b3479e",
   "metadata": {
    "tags": []
   },
   "outputs": [],
   "source": [
    "import pandas as pd\n",
    "import re"
   ]
  },
  {
   "cell_type": "code",
   "execution_count": null,
   "id": "da813ab5-a627-44d8-beb3-d48517b8bbe6",
   "metadata": {},
   "outputs": [],
   "source": []
  },
  {
   "cell_type": "code",
   "execution_count": 125,
   "id": "8e232618-ae1c-418d-85a0-58057066ea91",
   "metadata": {
    "collapsed": true,
    "jupyter": {
     "outputs_hidden": true
    },
    "tags": []
   },
   "outputs": [
    {
     "data": {
      "text/plain": [
       "[['Mexico', 114],\n",
       " ['nan', 114],\n",
       " ['China', 1852],\n",
       " ['Vietnam', 1942],\n",
       " ['Austria', 1964],\n",
       " ['Malaysia', 1976],\n",
       " ['USA', 2026],\n",
       " ['Bangladesh', 2036],\n",
       " ['Sweden', 2040],\n",
       " ['India', 2102],\n",
       " ['Taiwan', 2296],\n",
       " ['Thailand', 2323],\n",
       " ['Indonesia', 2353],\n",
       " ['US', 2356],\n",
       " ['Korea', 2378],\n",
       " ['Germany', 2404],\n",
       " ['Belgium', 2407],\n",
       " ['Canada', 2460],\n",
       " ['Japan', 2492],\n",
       " ['Switzerland', 2500],\n",
       " ['Latvia', 2502],\n",
       " ['Portugal', 2507],\n",
       " ['France', 2520],\n",
       " ['Poland', 2532],\n",
       " ['Brazil', 2540],\n",
       " ['Denmark', 2544],\n",
       " ['Cambodia', 2548],\n",
       " ['Pakistan', 2559],\n",
       " ['Italy', 2580],\n",
       " ['Australia', 2582],\n",
       " ['Philippines', 2591],\n",
       " ['Slovenia', 2596],\n",
       " ['Peru', 2608],\n",
       " ['Turkey', 2618],\n",
       " ['Netherlands', 2619],\n",
       " ['Honduras', 2620],\n",
       " ['US', 2623],\n",
       " ['Romania', 2629],\n",
       " ['Colombia', 2630],\n",
       " ['Finland', 2636],\n",
       " ['Jordan', 2637],\n",
       " ['Unknown', 2638],\n",
       " ['Israel', 2644],\n",
       " ['USA', 2694],\n",
       " ['USA', 2744],\n",
       " ['Guatemala', 2745],\n",
       " ['Mauritius', 2746],\n",
       " ['Nepal', 2748],\n",
       " ['Chile', 2749],\n",
       " ['China', 4487],\n",
       " ['Norway', 4489],\n",
       " ['Mexico', 4603],\n",
       " ['Spain', 4608],\n",
       " ['Slovakia', 4609],\n",
       " ['England', 4610],\n",
       " ['Singapore', 4611],\n",
       " ['Ecuador', 4612],\n",
       " ['California', 4613]]"
      ]
     },
     "execution_count": 125,
     "metadata": {},
     "output_type": "execute_result"
    }
   ],
   "source": [
    "\n",
    "#Function that when called generates the number of product recall violations for generated countries with a single place of manufacturer\n",
    "def createOccurrencesCountries(data):\n",
    "    country_calculations = []\n",
    "    for countries in generateCountries(data):\n",
    "        country_data = data.loc[data['Manufactured In'] == countries]\n",
    "        country_calculations.append([countries, country_data.size])\n",
    "        \n",
    "    return country_calculations\n",
    "\n",
    "\n",
    "#Function that when called will generate the number of units that each country has recalled.\n",
    "def createRecallAmountCountry(data):\n",
    "    unit_data = data['Units'].unique().tolist()\n",
    "    country_calculations = []\n",
    "    for units in unit_data:\n",
    "        print(str(units.split(\" \")))\n",
    "    return unit_data_specified_country\n",
    " \n",
    "\n",
    "#Testing Section\n",
    "recall_data = pd.read_csv(\"data/recalls_recall_listing.csv\")\n",
    "recall_amount = test_createOccurrencesCountries(recall_data)\n",
    "recall_amount"
   ]
  },
  {
   "cell_type": "code",
   "execution_count": 151,
   "id": "80aab429-59f3-41d5-9566-928fd2f8e0e4",
   "metadata": {
    "tags": []
   },
   "outputs": [
    {
     "data": {
      "text/plain": [
       "[['REMEDY', 'COUNT'],\n",
       " ['Replace', 537],\n",
       " ['Refund', 882],\n",
       " ['Repair', 312],\n",
       " ['Label', 4],\n",
       " ['New Instructions', 26],\n",
       " ['Dispose', 18],\n",
       " ['No Remedy Available', 5]]"
      ]
     },
     "execution_count": 151,
     "metadata": {},
     "output_type": "execute_result"
    }
   ],
   "source": [
    "#Function that when called and passed a specified country will return the remedy for the violation along with the frequency.   \n",
    "def createRecallRemedyCountryData(data,specific_country):\n",
    "    remedy_count = [[\"REMEDY\",\"COUNT\"]]\n",
    "    country_data = data.loc[data['Manufactured In'] == specific_country]\n",
    "    if country_data.size == 0: return\n",
    "    for remedy in country_data['Remedy Type']:\n",
    "        if pd.isna(remedy):\n",
    "            continue\n",
    "        if (len(remedy.split(\", \")) > 1):\n",
    "            for split_remedy in remedy.split(\", \"):\n",
    "                current_remedy_list = list(zip(*remedy_count))\n",
    "                if split_remedy in current_remedy_list[0]:\n",
    "                    occurence_index = current_remedy_list[0].index(split_remedy)\n",
    "                    remedy_count[occurence_index][1] = (remedy_count[occurence_index][1] + 1)           \n",
    "        else:\n",
    "            current_remedy_list = list(zip(*remedy_count))\n",
    "            if remedy in current_remedy_list[0]:\n",
    "                continue\n",
    "            else:\n",
    "                count = country_data['Remedy Type'].tolist().count(remedy)\n",
    "                remedy_count.append([remedy,count])\n",
    "        \n",
    "    return remedy_count\n",
    "\n",
    "\n",
    "recall_data = pd.read_csv(\"data/recalls_recall_listing.csv\")\n",
    "recall_amount = createRecallRemedyCountryData(recall_data,\"China\")\n",
    "recall_amount"
   ]
  },
  {
   "cell_type": "code",
   "execution_count": 62,
   "id": "44e1e039-7603-431b-b456-686b683f8561",
   "metadata": {
    "collapsed": true,
    "jupyter": {
     "outputs_hidden": true
    },
    "tags": []
   },
   "outputs": [
    {
     "name": "stdout",
     "output_type": "stream",
     "text": [
      "['Refund, Replace', 'Replace', 'Refund', 'Repair', 'Refund, Replace, Repair', 'Refund, Repair', 'Replace, Repair', 'Label', 'New Instructions', 'Dispose', 'Label, Refund', 'Label, New Instructions', 'Dispose, No Remedy Available', 'No Remedy Available', nan, 'Repair, Refund', 'Repair, Refund, Replace', 'Repair, Replace', 'New Instructions, Repair', 'Refund, New Instructions', 'Refund, Dispose', 'Replace, New Instructions', 'Repair, New Instructions', 'Replace, Dispose']\n"
     ]
    }
   ],
   "source": []
  },
  {
   "cell_type": "code",
   "execution_count": 172,
   "id": "94496b5b-1032-4b56-a897-eb2c6d0bff32",
   "metadata": {
    "tags": []
   },
   "outputs": [
    {
     "data": {
      "text/plain": [
       "[['COUNTRY', 'COUNT'],\n",
       " ['Mexico', 114],\n",
       " ['China', 1738],\n",
       " ['Vietnam', 90],\n",
       " ['Austria', 22],\n",
       " ['Malaysia', 12],\n",
       " ['USA', 50],\n",
       " ['Bangladesh', 10],\n",
       " ['Sweden', 4],\n",
       " ['India', 62],\n",
       " ['Taiwan', 194],\n",
       " ['Thailand', 27],\n",
       " ['Indonesia', 30],\n",
       " ['U.S.', 141],\n",
       " ['Korea', 22],\n",
       " ['Germany', 26],\n",
       " ['Belgium', 3],\n",
       " ['Canada', 53],\n",
       " ['Japan', 32],\n",
       " ['Switzerland', 8],\n",
       " ['Latvia', 2],\n",
       " ['Portugal', 5],\n",
       " ['France', 13],\n",
       " ['Poland', 11],\n",
       " ['Brazil', 7],\n",
       " ['Denmark', 4],\n",
       " ['Cambodia', 4],\n",
       " ['Pakistan', 11],\n",
       " ['Italy', 21],\n",
       " ['Australia', 2],\n",
       " ['Philippines', 9],\n",
       " ['Slovenia', 5],\n",
       " ['Peru', 12],\n",
       " ['Turkey', 9],\n",
       " ['Netherlands', 1],\n",
       " ['Honduras', 1],\n",
       " ['US', 3],\n",
       " ['Romania', 6],\n",
       " ['Colombia', 1],\n",
       " ['Finland', 6],\n",
       " ['Jordan', 1],\n",
       " ['Unknown', 1],\n",
       " ['Israel', 5],\n",
       " ['U.S.A', 1],\n",
       " ['U.S.A.', 10],\n",
       " ['Guatemala', 1],\n",
       " ['Mauritius', 1],\n",
       " ['Nepal', 2],\n",
       " ['Chile', 1],\n",
       " ['China.', 9],\n",
       " ['Norway', 2],\n",
       " ['Mexico.', 2],\n",
       " ['Spain', 2],\n",
       " ['Slovakia', 1],\n",
       " ['England', 1],\n",
       " ['Singapore', 1],\n",
       " ['Ecuador', 1],\n",
       " ['California', 1]]"
      ]
     },
     "execution_count": 172,
     "metadata": {},
     "output_type": "execute_result"
    }
   ],
   "source": [
    "#Working on test function to see about data points with multiple locations in manufactured (china, us, isreal) etc. \n",
    "def test_createOccurrencesCountries(data):\n",
    "    country_calculations = [[\"COUNTRY\",\"COUNT\"]]\n",
    "    for countries in data['Manufactured In']:\n",
    "        if pd.isna(countries):\n",
    "            continue\n",
    "        split_country = countries.split()\n",
    "        if len(split_country) > 1:\n",
    "            for countries_split in split_country:\n",
    "                current_country_list = list(zip(*country_calculations))\n",
    "                if countries_split in current_country_list[0]:\n",
    "                    occurence_index = current_country_list[0].index(countries_split)\n",
    "                    country_calculations[occurence_index][1] = (country_calculations[occurence_index][1] + 1)\n",
    "                else:\n",
    "                    continue\n",
    "        else:\n",
    "            current_country_list = list(zip(*country_calculations))\n",
    "            if countries in current_country_list[0]:\n",
    "                continue\n",
    "            else:\n",
    "                count = data['Manufactured In'].tolist().count(countries)\n",
    "                country_calculations.append([countries,count])\n",
    "                \n",
    "    return country_calculations\n",
    "\n",
    "\n",
    "                            \n",
    "                            \n",
    "                            \n",
    "                            \n",
    "                            \n",
    "                            \n",
    "                            \n",
    "                            \n",
    "                            \n",
    "                            \n",
    "                            \n",
    "recall_data = pd.read_csv(\"data/recalls_recall_listing.csv\")\n",
    "recall_amount = test_createOccurrencesCountries(recall_data)\n",
    "recall_amount"
   ]
  },
  {
   "cell_type": "code",
   "execution_count": 153,
   "id": "c88df14d-438e-4ec9-8228-7e3bca206ac8",
   "metadata": {},
   "outputs": [
    {
     "name": "stdout",
     "output_type": "stream",
     "text": [
      "True\n"
     ]
    }
   ],
   "source": []
  },
  {
   "cell_type": "code",
   "execution_count": null,
   "id": "b5a0b972-d406-427e-889f-56a44ce87b22",
   "metadata": {},
   "outputs": [],
   "source": []
  }
 ],
 "metadata": {
  "kernelspec": {
   "display_name": "Python 3 (ipykernel)",
   "language": "python",
   "name": "python3"
  },
  "language_info": {
   "codemirror_mode": {
    "name": "ipython",
    "version": 3
   },
   "file_extension": ".py",
   "mimetype": "text/x-python",
   "name": "python",
   "nbconvert_exporter": "python",
   "pygments_lexer": "ipython3",
   "version": "3.9.7"
  }
 },
 "nbformat": 4,
 "nbformat_minor": 5
}
